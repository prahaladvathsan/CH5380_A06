{
 "cells": [
  {
   "cell_type": "code",
   "execution_count": 13,
   "metadata": {},
   "outputs": [],
   "source": [
    "# Importing necessary libraries\n",
    "import mlflow\n",
    "from mlflow.tracking import MlflowClient\n",
    "from fastapi import FastAPI, UploadFile, File\n",
    "from PIL import Image\n",
    "import io\n",
    "from keras.models import load_model, save_model\n",
    "from tensorflow import keras\n",
    "import os\n",
    "import numpy as np\n",
    "import matplotlib.pyplot as plt\n",
    "import random"
   ]
  },
  {
   "cell_type": "code",
   "execution_count": 14,
   "metadata": {},
   "outputs": [],
   "source": [
    "client = MlflowClient(tracking_uri='http://localhost:8080') \n",
    "experiments = client.search_experiments()"
   ]
  },
  {
   "cell_type": "code",
   "execution_count": 15,
   "metadata": {},
   "outputs": [
    {
     "name": "stdout",
     "output_type": "stream",
     "text": [
      "Experiment ID: 546648210945176913\n",
      "Name: MNIST models auto\n",
      "Artifact Location: mlflow-artifacts:/546648210945176913\n",
      "Lifecycle Stage: active\n",
      "-------------------------------\n",
      "Experiment ID: 616345290327544943\n",
      "Name: MNIST models manual\n",
      "Artifact Location: mlflow-artifacts:/616345290327544943\n",
      "Lifecycle Stage: active\n",
      "-------------------------------\n",
      "Experiment ID: 0\n",
      "Name: Default\n",
      "Artifact Location: mlflow-artifacts:/0\n",
      "Lifecycle Stage: active\n",
      "-------------------------------\n"
     ]
    }
   ],
   "source": [
    "for experiment in experiments:\n",
    "    print(\"Experiment ID:\", experiment.experiment_id)\n",
    "    print(\"Name:\", experiment.name)\n",
    "    print(\"Artifact Location:\", experiment.artifact_location)\n",
    "    print(\"Lifecycle Stage:\", experiment.lifecycle_stage)\n",
    "    print(\"-------------------------------\")"
   ]
  },
  {
   "cell_type": "code",
   "execution_count": 16,
   "metadata": {},
   "outputs": [],
   "source": [
    "experiment_id = '546648210945176913'\n",
    "\n",
    "runs = mlflow.search_runs(experiment_id)\n"
   ]
  },
  {
   "cell_type": "code",
   "execution_count": 17,
   "metadata": {},
   "outputs": [
    {
     "data": {
      "text/html": [
       "<div>\n",
       "<style scoped>\n",
       "    .dataframe tbody tr th:only-of-type {\n",
       "        vertical-align: middle;\n",
       "    }\n",
       "\n",
       "    .dataframe tbody tr th {\n",
       "        vertical-align: top;\n",
       "    }\n",
       "\n",
       "    .dataframe thead th {\n",
       "        text-align: right;\n",
       "    }\n",
       "</style>\n",
       "<table border=\"1\" class=\"dataframe\">\n",
       "  <thead>\n",
       "    <tr style=\"text-align: right;\">\n",
       "      <th></th>\n",
       "      <th>run_id</th>\n",
       "      <th>experiment_id</th>\n",
       "      <th>status</th>\n",
       "      <th>artifact_uri</th>\n",
       "      <th>start_time</th>\n",
       "      <th>end_time</th>\n",
       "    </tr>\n",
       "  </thead>\n",
       "  <tbody>\n",
       "  </tbody>\n",
       "</table>\n",
       "</div>"
      ],
      "text/plain": [
       "Empty DataFrame\n",
       "Columns: [run_id, experiment_id, status, artifact_uri, start_time, end_time]\n",
       "Index: []"
      ]
     },
     "execution_count": 17,
     "metadata": {},
     "output_type": "execute_result"
    }
   ],
   "source": [
    "runs"
   ]
  },
  {
   "cell_type": "code",
   "execution_count": 18,
   "metadata": {},
   "outputs": [],
   "source": [
    "for run in runs.iterrows():\n",
    "    print(\"Run ID:\", run[1]['run_id'])\n",
    "    print(\"Status:\", run[1]['status'])\n",
    "    print(\"Start Time:\", run[1]['start_time'])\n",
    "    print(\"End Time:\", run[1]['end_time'])\n",
    "    print(\"Validation Loss:\",run[1]['metrics.val_loss'])\n",
    "    print(\"-------------------------------------\")"
   ]
  },
  {
   "cell_type": "code",
   "execution_count": 6,
   "metadata": {},
   "outputs": [
    {
     "name": "stdout",
     "output_type": "stream",
     "text": [
      "Best Run ID: None\n",
      "Best Validation Loss: inf\n"
     ]
    }
   ],
   "source": [
    "# Picking the model with the least validation loss\n",
    "\n",
    "best_loss = float('inf')\n",
    "best_run_id = None\n",
    "\n",
    "for run in runs.iterrows():\n",
    "    loss = run[1]['metrics.val_loss']\n",
    "\n",
    "    if loss < best_loss:\n",
    "        best_loss = loss\n",
    "        best_run_id = run[1]['run_id']\n",
    "\n",
    "print(\"Best Run ID:\", best_run_id)\n",
    "print(\"Best Validation Loss:\", best_loss)"
   ]
  },
  {
   "cell_type": "code",
   "execution_count": 7,
   "metadata": {},
   "outputs": [
    {
     "ename": "TypeError",
     "evalue": "can only concatenate str (not \"NoneType\") to str",
     "output_type": "error",
     "traceback": [
      "\u001b[1;31m---------------------------------------------------------------------------\u001b[0m",
      "\u001b[1;31mTypeError\u001b[0m                                 Traceback (most recent call last)",
      "Cell \u001b[1;32mIn[7], line 1\u001b[0m\n\u001b[1;32m----> 1\u001b[0m model \u001b[38;5;241m=\u001b[39m mlflow\u001b[38;5;241m.\u001b[39mkeras\u001b[38;5;241m.\u001b[39mload_model(\u001b[38;5;124;43m\"\u001b[39;49m\u001b[38;5;124;43mruns:/\u001b[39;49m\u001b[38;5;124;43m\"\u001b[39;49m\u001b[43m \u001b[49m\u001b[38;5;241;43m+\u001b[39;49m\u001b[43m \u001b[49m\u001b[43mbest_run_id\u001b[49m \u001b[38;5;241m+\u001b[39m \u001b[38;5;124m\"\u001b[39m\u001b[38;5;124m/model\u001b[39m\u001b[38;5;124m\"\u001b[39m)\n",
      "\u001b[1;31mTypeError\u001b[0m: can only concatenate str (not \"NoneType\") to str"
     ]
    }
   ],
   "source": [
    "model = mlflow.keras.load_model(\"runs:/\" + best_run_id + \"/model\")"
   ]
  },
  {
   "cell_type": "code",
   "execution_count": 45,
   "metadata": {},
   "outputs": [],
   "source": [
    "# Saving the model on the disk\n",
    "\n",
    "def save_model_to_disk(model,file_path,model_name):\n",
    "    os.makedirs(file_path,exist_ok=True)\n",
    "    save_path = os.path.join(file_path,model_name)\n",
    "\n",
    "    save_model(model,save_path)\n",
    "\n",
    "save_model_to_disk(model,'Models','MNIST_model.keras')\n"
   ]
  }
 ],
 "metadata": {
  "kernelspec": {
   "display_name": "base",
   "language": "python",
   "name": "python3"
  },
  "language_info": {
   "codemirror_mode": {
    "name": "ipython",
    "version": 3
   },
   "file_extension": ".py",
   "mimetype": "text/x-python",
   "name": "python",
   "nbconvert_exporter": "python",
   "pygments_lexer": "ipython3",
   "version": "3.10.14"
  }
 },
 "nbformat": 4,
 "nbformat_minor": 2
}
